{
  "nbformat": 4,
  "nbformat_minor": 0,
  "metadata": {
    "colab": {
      "provenance": [],
      "authorship_tag": "ABX9TyMnnkccKTrvdKHMVsF2QzTe",
      "include_colab_link": true
    },
    "kernelspec": {
      "name": "python3",
      "display_name": "Python 3"
    },
    "language_info": {
      "name": "python"
    }
  },
  "cells": [
    {
      "cell_type": "markdown",
      "metadata": {
        "id": "view-in-github",
        "colab_type": "text"
      },
      "source": [
        "<a href=\"https://colab.research.google.com/github/Anil951/mental_health_prediction/blob/main/whatsapp_extract.ipynb\" target=\"_parent\"><img src=\"https://colab.research.google.com/assets/colab-badge.svg\" alt=\"Open In Colab\"/></a>"
      ]
    },
    {
      "cell_type": "code",
      "source": [
        "# the user should add his exported .txt chat files here"
      ],
      "metadata": {
        "id": "nHFrQwKX8pXo"
      },
      "execution_count": null,
      "outputs": []
    },
    {
      "cell_type": "code",
      "source": [
        "#STEPS TO EXTRACT A WHATSAPP CHAT\n",
        "\n",
        "# Choose a chat\n",
        "# Open the chat\n",
        "# Click on three dots that's on the top right\n",
        "# Select export chat\n",
        "# It gets downloaded ina zip file\n",
        "# Extract them"
      ],
      "metadata": {
        "id": "x10Rc0zd84n8"
      },
      "execution_count": null,
      "outputs": []
    },
    {
      "cell_type": "code",
      "execution_count": 3,
      "metadata": {
        "id": "vdBUauRz9441",
        "colab": {
          "base_uri": "https://localhost:8080/"
        },
        "outputId": "7f943954-8034-41b7-ad00-06738fd1c4c0"
      },
      "outputs": [
        {
          "output_type": "stream",
          "name": "stdout",
          "text": [
            "First few rows of the combined DataFrame:\n",
            "                                                 msg\n",
            "0                                    Hey… you awake?\n",
            "1                Yeah, can't sleep again. What's up?\n",
            "2  Just feeling... off, you know? Everything feel...\n",
            "3  I get it. It’s been the same for me. Every day...\n",
            "4  Exactly. It’s like I’m surrounded by people, b...\n",
            "\n",
            "Total number of messages: 43\n"
          ]
        }
      ],
      "source": [
        "import pandas as pd\n",
        "\n",
        "# List of file paths (add each file path here)\n",
        "file_paths = [\n",
        "    \"/content/chat.txt\",\n",
        "    \"/content/chat2.txt\",\n",
        "]\n",
        "\n",
        "try:\n",
        "    # Initialize an empty list to store all messages\n",
        "    all_messages = []\n",
        "\n",
        "    # Loop through each file and process\n",
        "    for file_path in file_paths:\n",
        "        with open(file_path, 'r', encoding='utf-8') as file:\n",
        "            messages = file.readlines()\n",
        "\n",
        "        # Process each message to extract only the content after ': '\n",
        "        for msg in messages:\n",
        "            if ': ' in msg:\n",
        "                content = msg.split(': ', 1)[1].strip()  # Get everything after the first ': '\n",
        "                all_messages.append(content)\n",
        "\n",
        "    # Create a DataFrame from the collected messages\n",
        "    wasap_msg_df = pd.DataFrame(all_messages, columns=['msg'])\n",
        "\n",
        "    print(\"First few rows of the combined DataFrame:\")\n",
        "    print(wasap_msg_df.head())\n",
        "    print(\"\\nTotal number of messages:\", len(wasap_msg_df))\n",
        "\n",
        "except FileNotFoundError as e:\n",
        "    print(f\"File not found: {e.filename}\")\n",
        "except Exception as e:\n",
        "    print(f\"An error occurred: {e}\")\n"
      ]
    }
  ]
}